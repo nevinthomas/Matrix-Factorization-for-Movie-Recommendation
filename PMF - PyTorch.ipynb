{
 "cells": [
  {
   "cell_type": "code",
   "execution_count": 1,
   "metadata": {},
   "outputs": [],
   "source": [
    "import torch\n",
    "import numpy as np\n",
    "import pandas as pd\n",
    "import matplotlib.pyplot as plt"
   ]
  },
  {
   "cell_type": "code",
   "execution_count": 2,
   "metadata": {},
   "outputs": [
    {
     "name": "stdout",
     "output_type": "stream",
     "text": [
      "GPU not available, CPU used\n"
     ]
    }
   ],
   "source": [
    "is_cuda = torch.cuda.is_available()\n",
    "\n",
    "# If we have a GPU available, we'll set our device to GPU. We'll use this device variable later in our code.\n",
    "if is_cuda:\n",
    "    device = torch.device(\"cuda\")\n",
    "    print(\"GPU is available\")\n",
    "else:\n",
    "    device = torch.device(\"cpu\")\n",
    "    print(\"GPU not available, CPU used\")"
   ]
  },
  {
   "cell_type": "code",
   "execution_count": 3,
   "metadata": {},
   "outputs": [],
   "source": [
    "#Reading data and creating the ratings matrix\n",
    "df = pd.read_csv('C:/Users/nevin/Downloads/Georgia Tech/Courses/DMSL_7406/Project/ml-latest-small/ratings.csv')"
   ]
  },
  {
   "cell_type": "code",
   "execution_count": 4,
   "metadata": {},
   "outputs": [],
   "source": [
    "# Filter sparse movies\n",
    "min_movie_ratings = 10\n",
    "filter_movies = (df['movieId'].value_counts()>min_movie_ratings)\n",
    "filter_movies = filter_movies[filter_movies].index.tolist()\n",
    "\n",
    "# Filter sparse users\n",
    "min_user_ratings = 10\n",
    "filter_users = (df['userId'].value_counts()>min_user_ratings)\n",
    "filter_users = filter_users[filter_users].index.tolist()\n",
    "\n",
    "df = df[(df['movieId'].isin(filter_movies)) & (df['userId'].isin(filter_users))]\n",
    "del filter_movies, filter_users, min_movie_ratings, min_user_ratings"
   ]
  },
  {
   "cell_type": "code",
   "execution_count": 5,
   "metadata": {},
   "outputs": [
    {
     "data": {
      "text/html": [
       "<div>\n",
       "<style scoped>\n",
       "    .dataframe tbody tr th:only-of-type {\n",
       "        vertical-align: middle;\n",
       "    }\n",
       "\n",
       "    .dataframe tbody tr th {\n",
       "        vertical-align: top;\n",
       "    }\n",
       "\n",
       "    .dataframe thead th {\n",
       "        text-align: right;\n",
       "    }\n",
       "</style>\n",
       "<table border=\"1\" class=\"dataframe\">\n",
       "  <thead>\n",
       "    <tr style=\"text-align: right;\">\n",
       "      <th></th>\n",
       "      <th>userId</th>\n",
       "      <th>movieId</th>\n",
       "      <th>rating</th>\n",
       "    </tr>\n",
       "  </thead>\n",
       "  <tbody>\n",
       "    <tr>\n",
       "      <th>0</th>\n",
       "      <td>604</td>\n",
       "      <td>610</td>\n",
       "      <td>5.0</td>\n",
       "    </tr>\n",
       "    <tr>\n",
       "      <th>1</th>\n",
       "      <td>288</td>\n",
       "      <td>260</td>\n",
       "      <td>5.0</td>\n",
       "    </tr>\n",
       "    <tr>\n",
       "      <th>2</th>\n",
       "      <td>600</td>\n",
       "      <td>1077</td>\n",
       "      <td>3.5</td>\n",
       "    </tr>\n",
       "    <tr>\n",
       "      <th>3</th>\n",
       "      <td>608</td>\n",
       "      <td>3081</td>\n",
       "      <td>4.0</td>\n",
       "    </tr>\n",
       "    <tr>\n",
       "      <th>4</th>\n",
       "      <td>484</td>\n",
       "      <td>367</td>\n",
       "      <td>3.0</td>\n",
       "    </tr>\n",
       "  </tbody>\n",
       "</table>\n",
       "</div>"
      ],
      "text/plain": [
       "   userId  movieId  rating\n",
       "0     604      610     5.0\n",
       "1     288      260     5.0\n",
       "2     600     1077     3.5\n",
       "3     608     3081     4.0\n",
       "4     484      367     3.0"
      ]
     },
     "execution_count": 5,
     "metadata": {},
     "output_type": "execute_result"
    }
   ],
   "source": [
    "# Shuffle DataFrame\n",
    "df = df.drop('timestamp', axis=1).sample(frac=1).reset_index(drop=True)\n",
    "df.head()"
   ]
  },
  {
   "cell_type": "code",
   "execution_count": 6,
   "metadata": {},
   "outputs": [],
   "source": [
    "from sklearn.model_selection import train_test_split\n",
    "df_train , df_test = train_test_split(df, test_size = 0.2)"
   ]
  },
  {
   "cell_type": "code",
   "execution_count": 7,
   "metadata": {},
   "outputs": [],
   "source": [
    "#Creating the training ratings matrix\n",
    "ratings = pd.pivot_table(df_train, index = 'userId', columns = 'movieId', values = 'rating')\n",
    "\n",
    "#Scaling\n",
    "min_rating, max_rating = df['rating'].min(), df['rating'].max()\n",
    "ratings = (ratings - min_rating) / (max_rating - min_rating)\n",
    "\n",
    "ratings[ratings.isnull()] = -1\n",
    "ratings = torch.FloatTensor(ratings.values)\n",
    "ratings = ratings.to(device)\n",
    "\n",
    "#Generating the test ratings matrix\n",
    "rate2 = pd.pivot_table(df, index = 'userId', columns = 'movieId', values = 'rating')\n",
    "rate2 = torch.FloatTensor(rate2.values)\n",
    "rate2 = rate2.to(device)\n",
    "\n",
    "rate = pd.pivot_table(df_train, index = 'userId', columns = 'movieId', values = 'rating')\n",
    "rate[rate.isnull()] = -1\n",
    "rate[rate >= 0] = np.nan\n",
    "rate = rate + 1\n",
    "rate = torch.FloatTensor(rate.values)\n",
    "rate = rate.to(device)\n",
    "\n",
    "test = rate2 - rate\n",
    "test[torch.isnan(test)] = -1\n",
    "\n",
    "del rate, rate2\n",
    "\n",
    "n_users, n_movies = ratings.shape"
   ]
  },
  {
   "cell_type": "code",
   "execution_count": 8,
   "metadata": {},
   "outputs": [],
   "source": [
    "#Instead of returning the prediction, this returns the loss directly in the forward prop\n",
    "class PMFLoss(torch.nn.Module):\n",
    "    def __init__(self, lam_u=0.3, lam_v=0.3):\n",
    "        super().__init__()\n",
    "        self.lam_u = lam_u\n",
    "        self.lam_v = lam_v\n",
    "    \n",
    "    def forward(self, matrix, u_features, v_features):\n",
    "        non_zero_mask = (matrix != -1).type(torch.FloatTensor).to(device)\n",
    "        predicted = torch.sigmoid(torch.mm(u_features, v_features.t())).to(device)\n",
    "        \n",
    "        diff = ((matrix - predicted)**2).to(device)\n",
    "        prediction_error = torch.sum(diff*non_zero_mask).to(device)\n",
    "\n",
    "        u_regularization = self.lam_u * torch.sum(u_features.norm(dim=1)**2)\n",
    "        v_regularization = self.lam_v * torch.sum(v_features.norm(dim=1)**2)\n",
    "        \n",
    "        return prediction_error + u_regularization + v_regularization"
   ]
  },
  {
   "cell_type": "markdown",
   "metadata": {},
   "source": [
    "## Analyzing the impact of the number of latent features on the test RMSE"
   ]
  },
  {
   "cell_type": "code",
   "execution_count": 9,
   "metadata": {},
   "outputs": [],
   "source": [
    "non_zero_mask_train = (ratings != -1).type(torch.FloatTensor).to(device)\n",
    "non_zero_mask_test = (test != -1).type(torch.FloatTensor).to(device)\n",
    "ratings_org = ratings*(max_rating - min_rating) + min_rating\n",
    "D_list = [5,25,50]\n",
    "lam = 0.45\n",
    "results = pd.DataFrame()"
   ]
  },
  {
   "cell_type": "code",
   "execution_count": 10,
   "metadata": {},
   "outputs": [],
   "source": [
    "for D in D_list:\n",
    "    lam_u, lam_v = lam, lam\n",
    "    latent_vectors = D\n",
    "    user_features = torch.randn(n_users, latent_vectors, requires_grad=True, device = device)\n",
    "    user_features.data.mul_(0.01)\n",
    "    movie_features = torch.randn(n_movies, latent_vectors, requires_grad=True, device = device)\n",
    "    movie_features.data.mul_(0.01)\n",
    "    PMF_model = PMFLoss(lam_u, lam_v)\n",
    "    optimizer = torch.optim.Adam([user_features, movie_features], lr=0.01)\n",
    "    rmse_train = []\n",
    "    rmse_test = []\n",
    "    for step, epoch in enumerate(range(2000)):\n",
    "        optimizer.zero_grad()\n",
    "        loss = PMF_model(ratings, user_features, movie_features)\n",
    "        loss.backward()\n",
    "        optimizer.step()\n",
    "\n",
    "        predicted = torch.sigmoid(torch.mm(user_features, movie_features.t())).to(device)\n",
    "        predicted = (predicted*(max_rating - min_rating) + min_rating)\n",
    "        train_err = torch.sqrt(torch.sum(((predicted - ratings_org) ** 2) * non_zero_mask_train)/len(df_train))\n",
    "        rmse_train.append(train_err.item())\n",
    "        test_err = torch.sqrt(torch.sum(((predicted - test) ** 2) * non_zero_mask_test)/len(df_test))\n",
    "        rmse_test.append(test_err.item())\n",
    "\n",
    "    results[str(D) + '_train'] = rmse_train\n",
    "    results[str(D) + '_test'] = rmse_test"
   ]
  },
  {
   "cell_type": "code",
   "execution_count": 11,
   "metadata": {},
   "outputs": [
    {
     "data": {
      "image/png": "[encoded data removed]",
      "text/plain": [
       "<Figure size 720x252 with 2 Axes>"
      ]
     },
     "metadata": {
      "needs_background": "light"
     },
     "output_type": "display_data"
    }
   ],
   "source": [
    "fig, (ax1, ax2) = plt.subplots(1,2,figsize=(10,3.5))\n",
    "ax1.plot(results.iloc[:,0], label='D = 5')\n",
    "ax1.plot(results.iloc[:,2], label='D = 25')\n",
    "ax1.plot(results.iloc[:,4], label='D = 50')\n",
    "ax1.set_title('Train RMSE')\n",
    "ax1.set(xlabel='Epochs', ylabel='RMSE')\n",
    "ax1.legend()\n",
    "ax2.plot(results.iloc[:,1], label='D = 5')\n",
    "ax2.plot(results.iloc[:,3], label='D = 25')\n",
    "ax2.plot(results.iloc[:,5], label='D = 50')\n",
    "\n",
    "ax2.set_title('Test RMSE')\n",
    "ax2.set(xlabel='Epochs', ylabel='RMSE')\n",
    "ax2.legend()\n",
    "\n",
    "fig.tight_layout(pad=1.0)"
   ]
  },
  {
   "cell_type": "markdown",
   "metadata": {},
   "source": [
    "## Analyzing the effect of $\\lambda$ on the test RMSE"
   ]
  },
  {
   "cell_type": "code",
   "execution_count": 12,
   "metadata": {},
   "outputs": [],
   "source": [
    "D = 25\n",
    "lam_list = [0.1,0.2,0.4,0.8]\n",
    "results = pd.DataFrame()\n",
    "\n",
    "for lam in lam_list:\n",
    "    lam_u, lam_v = lam, lam\n",
    "    latent_vectors = D\n",
    "    user_features = torch.randn(n_users, latent_vectors, requires_grad=True, device = device)\n",
    "    user_features.data.mul_(0.01)\n",
    "    movie_features = torch.randn(n_movies, latent_vectors, requires_grad=True, device = device)\n",
    "    movie_features.data.mul_(0.01)\n",
    "    PMF_model = PMFLoss(lam_u, lam_v)\n",
    "    optimizer = torch.optim.Adam([user_features, movie_features], lr=0.01)\n",
    "    rmse_train = []\n",
    "    rmse_test = []\n",
    "    for step, epoch in enumerate(range(2000)):\n",
    "        optimizer.zero_grad()\n",
    "        loss = PMF_model(ratings, user_features, movie_features)\n",
    "        loss.backward()\n",
    "        optimizer.step()\n",
    "\n",
    "        predicted = torch.sigmoid(torch.mm(user_features, movie_features.t())).to(device)\n",
    "        predicted = (predicted*(max_rating - min_rating) + min_rating)\n",
    "        train_err = torch.sqrt(torch.sum(((predicted - ratings_org) ** 2) * non_zero_mask_train)/len(df_train))\n",
    "        rmse_train.append(train_err.item())\n",
    "        test_err = torch.sqrt(torch.sum(((predicted - test) ** 2) * non_zero_mask_test)/len(df_test))\n",
    "        rmse_test.append(test_err.item())\n",
    "\n",
    "    results[str(lam) + '_train'] = rmse_train\n",
    "    results[str(lam) + '_test'] = rmse_test\n",
    "    "
   ]
  },
  {
   "cell_type": "code",
   "execution_count": 13,
   "metadata": {},
   "outputs": [
    {
     "data": {
      "image/png": "[encoded data removed]",
      "text/plain": [
       "<Figure size 720x252 with 2 Axes>"
      ]
     },
     "metadata": {
      "needs_background": "light"
     },
     "output_type": "display_data"
    }
   ],
   "source": [
    "fig, (ax1, ax2) = plt.subplots(1,2,figsize=(10,3.5))\n",
    "ax1.plot(results.iloc[:,0], label=r'$\\lambda$ = 0.1')\n",
    "ax1.plot(results.iloc[:,2], label=r'$\\lambda$ = 0.2')\n",
    "ax1.plot(results.iloc[:,4], label=r'$\\lambda$ = 0.4')\n",
    "ax1.plot(results.iloc[:,6], label=r'$\\lambda$ = 0.8')\n",
    "ax1.set_title('Train RMSE')\n",
    "ax1.set(xlabel='Epochs', ylabel='RMSE')\n",
    "ax1.legend()\n",
    "ax2.plot(results.iloc[:,1], label=r'$\\lambda$ = 0.1')\n",
    "ax2.plot(results.iloc[:,3], label=r'$\\lambda$ = 0.2')\n",
    "ax2.plot(results.iloc[:,5], label=r'$\\lambda$ = 0.4')\n",
    "ax2.plot(results.iloc[:,7], label=r'$\\lambda$ = 0.8')\n",
    "ax2.set_title('Test RMSE')\n",
    "ax2.set(xlabel='Epochs', ylabel='RMSE')\n",
    "ax2.legend()\n",
    "\n",
    "fig.tight_layout(pad=1.0)"
   ]
  },
  {
   "cell_type": "code",
   "execution_count": 14,
   "metadata": {},
   "outputs": [
    {
     "name": "stdout",
     "output_type": "stream",
     "text": [
      "Testing Error:  0.8574995398521423\n"
     ]
    }
   ],
   "source": [
    "#Final Model\n",
    "lam = 0.45\n",
    "lam_u, lam_v = lam, lam\n",
    "latent_vectors = 25\n",
    "rmse_train = []\n",
    "rmse_test = []\n",
    "user_features = torch.randn(n_users, latent_vectors, requires_grad=True, device = device)\n",
    "user_features.data.mul_(0.01)\n",
    "movie_features = torch.randn(n_movies, latent_vectors, requires_grad=True, device = device)\n",
    "movie_features.data.mul_(0.01)\n",
    "PMF_model = PMFLoss(lam_u, lam_v)\n",
    "optimizer = torch.optim.Adam([user_features, movie_features], lr=0.01)\n",
    "for step, epoch in enumerate(range(2000)):\n",
    "    optimizer.zero_grad()\n",
    "    loss = PMF_model(ratings, user_features, movie_features)\n",
    "    loss.backward()\n",
    "    optimizer.step()\n",
    "\n",
    "    predicted = torch.sigmoid(torch.mm(user_features, movie_features.t())).to(device)\n",
    "    predicted = (predicted*(max_rating - min_rating) + min_rating)\n",
    "    train_err = torch.sqrt(torch.sum(((predicted - ratings_org) ** 2) * non_zero_mask_train)/len(df_train))\n",
    "    rmse_train.append(train_err.item())\n",
    "    test_err = torch.sqrt(torch.sum(((predicted - test) ** 2) * non_zero_mask_test)/len(df_test))\n",
    "    rmse_test.append(test_err.item())\n",
    "\n",
    "results = pd.DataFrame()\n",
    "results['PMF_train'] = rmse_train\n",
    "results['PMF_test'] = rmse_test\n",
    "print('Testing Error: ', rmse_test[-1])"
   ]
  },
  {
   "cell_type": "code",
   "execution_count": 15,
   "metadata": {},
   "outputs": [],
   "source": [
    "results.to_csv('PMF_results.csv', sep = ',')"
   ]
  }
 ],
 "metadata": {
  "kernelspec": {
   "display_name": "Python 3",
   "language": "python",
   "name": "python3"
  },
  "language_info": {
   "codemirror_mode": {
    "name": "ipython",
    "version": 3
   },
   "file_extension": ".py",
   "mimetype": "text/x-python",
   "name": "python",
   "nbconvert_exporter": "python",
   "pygments_lexer": "ipython3",
   "version": "3.7.6"
  }
 },
 "nbformat": 4,
 "nbformat_minor": 2
}
