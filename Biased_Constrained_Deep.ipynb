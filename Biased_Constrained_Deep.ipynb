{
 "cells": [
  {
   "cell_type": "code",
   "execution_count": 1,
   "metadata": {},
   "outputs": [],
   "source": [
    "import torch\n",
    "import numpy as np\n",
    "import pandas as pd\n",
    "import matplotlib.pyplot as plt"
   ]
  },
  {
   "cell_type": "code",
   "execution_count": 2,
   "metadata": {},
   "outputs": [],
   "source": [
    "#Reading data and creating the ratings matrix\n",
    "df = pd.read_csv('ratings.csv')"
   ]
  },
  {
   "cell_type": "code",
   "execution_count": 3,
   "metadata": {},
   "outputs": [],
   "source": [
    "# Filter sparse movies\n",
    "min_movie_ratings = 10\n",
    "filter_movies = (df['movieId'].value_counts()>min_movie_ratings)\n",
    "filter_movies = filter_movies[filter_movies].index.tolist()\n",
    "\n",
    "# Filter sparse users\n",
    "min_user_ratings = 10\n",
    "filter_users = (df['userId'].value_counts()>min_user_ratings)\n",
    "filter_users = filter_users[filter_users].index.tolist()\n",
    "\n",
    "df = df[(df['movieId'].isin(filter_movies)) & (df['userId'].isin(filter_users))]\n",
    "del filter_movies, filter_users, min_movie_ratings, min_user_ratings"
   ]
  },
  {
   "cell_type": "code",
   "execution_count": 4,
   "metadata": {},
   "outputs": [
    {
     "data": {
      "text/html": [
       "<div>\n",
       "<style scoped>\n",
       "    .dataframe tbody tr th:only-of-type {\n",
       "        vertical-align: middle;\n",
       "    }\n",
       "\n",
       "    .dataframe tbody tr th {\n",
       "        vertical-align: top;\n",
       "    }\n",
       "\n",
       "    .dataframe thead th {\n",
       "        text-align: right;\n",
       "    }\n",
       "</style>\n",
       "<table border=\"1\" class=\"dataframe\">\n",
       "  <thead>\n",
       "    <tr style=\"text-align: right;\">\n",
       "      <th></th>\n",
       "      <th>userId</th>\n",
       "      <th>movieId</th>\n",
       "      <th>rating</th>\n",
       "    </tr>\n",
       "  </thead>\n",
       "  <tbody>\n",
       "    <tr>\n",
       "      <th>0</th>\n",
       "      <td>397</td>\n",
       "      <td>1077</td>\n",
       "      <td>4.0</td>\n",
       "    </tr>\n",
       "    <tr>\n",
       "      <th>1</th>\n",
       "      <td>590</td>\n",
       "      <td>2028</td>\n",
       "      <td>4.0</td>\n",
       "    </tr>\n",
       "    <tr>\n",
       "      <th>2</th>\n",
       "      <td>141</td>\n",
       "      <td>6934</td>\n",
       "      <td>3.5</td>\n",
       "    </tr>\n",
       "    <tr>\n",
       "      <th>3</th>\n",
       "      <td>365</td>\n",
       "      <td>58559</td>\n",
       "      <td>3.5</td>\n",
       "    </tr>\n",
       "    <tr>\n",
       "      <th>4</th>\n",
       "      <td>288</td>\n",
       "      <td>2662</td>\n",
       "      <td>3.0</td>\n",
       "    </tr>\n",
       "  </tbody>\n",
       "</table>\n",
       "</div>"
      ],
      "text/plain": [
       "   userId  movieId  rating\n",
       "0     397     1077     4.0\n",
       "1     590     2028     4.0\n",
       "2     141     6934     3.5\n",
       "3     365    58559     3.5\n",
       "4     288     2662     3.0"
      ]
     },
     "execution_count": 4,
     "metadata": {},
     "output_type": "execute_result"
    }
   ],
   "source": [
    "# Shuffle DataFrame\n",
    "df = df.drop('timestamp', axis=1).sample(frac=1).reset_index(drop=True)\n",
    "df.head()"
   ]
  },
  {
   "cell_type": "code",
   "execution_count": 5,
   "metadata": {},
   "outputs": [
    {
     "name": "stdout",
     "output_type": "stream",
     "text": [
      "Min no of rating by a user in train set: 5.0\n"
     ]
    }
   ],
   "source": [
    "from sklearn.model_selection import train_test_split\n",
    "df_train , df_test = train_test_split(df, test_size = 0.2)\n",
    "ratings = pd.pivot_table(df_train, index = 'userId', columns = 'movieId', values = 'rating')\n",
    "ratings[ratings.isnull()] = -1\n",
    "ratings=torch.FloatTensor(ratings.values)\n",
    "non_zero_mask = (ratings != -1).type(torch.FloatTensor)\n",
    "if(min(torch.sum(non_zero_mask,1))==0):\n",
    "    print('Do another split')\n",
    "else:\n",
    "    print(f\"Min no of rating by a user in train set: {min(torch.sum(non_zero_mask,1))}\")      "
   ]
  },
  {
   "cell_type": "code",
   "execution_count": 6,
   "metadata": {},
   "outputs": [],
   "source": [
    "ratings = pd.pivot_table(df_train, index = 'userId', columns = 'movieId', values = 'rating')\n",
    "\n",
    "#Scaling\n",
    "min_rating, max_rating = df['rating'].min(), df['rating'].max()\n",
    "ratings = (ratings - min_rating) / (max_rating - min_rating)\n",
    "\n",
    "ratings[ratings.isnull()] = -1\n",
    "ratings = torch.FloatTensor(ratings.values)\n",
    "ratings = ratings\n",
    "\n",
    "ratings_original = pd.pivot_table(df_train, index = 'userId', columns = 'movieId', values = 'rating')\n",
    "ratings_original[ratings_original.isnull()] = -1\n",
    "ratings_original = torch.FloatTensor(ratings_original.values)\n",
    "ratings_original = ratings_original\n",
    "\n",
    "\n",
    "rate2 = pd.pivot_table(df, index = 'userId', columns = 'movieId', values = 'rating')\n",
    "rate2 = torch.FloatTensor(rate2.values)\n",
    "rate2 = rate2\n",
    "\n",
    "rate = pd.pivot_table(df_train, index = 'userId', columns = 'movieId', values = 'rating')\n",
    "rate[rate.isnull()] = -1\n",
    "rate[rate >= 0] = np.nan\n",
    "rate = rate + 1\n",
    "rate = torch.FloatTensor(rate.values)\n",
    "rate = rate\n",
    "\n",
    "test = rate2 - rate\n",
    "test[torch.isnan(test)] = -1\n",
    "\n",
    "n_users, n_movies = ratings.shape"
   ]
  },
  {
   "cell_type": "markdown",
   "metadata": {},
   "source": [
    "#### Biased PMF"
   ]
  },
  {
   "cell_type": "code",
   "execution_count": 16,
   "metadata": {},
   "outputs": [],
   "source": [
    "#Instead of returning the prediction, this returns the loss directly in the forward prop\n",
    "class BiasedPMFLoss(torch.nn.Module):\n",
    "    def __init__(self, lam_u=0.3, lam_v=0.3):\n",
    "        super().__init__()\n",
    "        self.lam_u = lam_u\n",
    "        self.lam_v = lam_v\n",
    "    \n",
    "    def forward(self, matrix, u_features, v_features, u_bias, v_bias):\n",
    "        n_users,n_movies=matrix.shape\n",
    "        non_zero_mask = (matrix != -1).type(torch.FloatTensor)\n",
    "        bias=u_bias.repeat(1,n_movies)+v_bias.repeat(n_users,1)\n",
    "        predicted = torch.sigmoid(bias+torch.mm(u_features, v_features.t()))\n",
    "        \n",
    "        diff = ((matrix - predicted)**2)\n",
    "        prediction_error = torch.sum(diff*non_zero_mask)\n",
    "\n",
    "        u_regularization = self.lam_u * (torch.sum(u_features.norm(dim=1)**2)+u_bias.norm()**2)\n",
    "        v_regularization = self.lam_v * (torch.sum(v_features.norm(dim=1)**2)+v_bias.norm()**2)\n",
    "        \n",
    "        return prediction_error + u_regularization + v_regularization"
   ]
  },
  {
   "cell_type": "code",
   "execution_count": 146,
   "metadata": {},
   "outputs": [
    {
     "name": "stdout",
     "output_type": "stream",
     "text": [
      "Step 0, 5417.881\n",
      "Step 500, 1890.789\n",
      "Step 1000, 1890.399\n",
      "Step 1500, 1890.372\n"
     ]
    }
   ],
   "source": [
    "latent_vectors, lam_u, lam_v = 50, 0.42, 0.42\n",
    "user_features = torch.randn(n_users, latent_vectors, requires_grad=True)\n",
    "user_features.data.mul_(0.01)\n",
    "movie_features = torch.randn(n_movies, latent_vectors, requires_grad=True)\n",
    "movie_features.data.mul_(0.01)\n",
    "user_bias = torch.randn(n_users, 1, requires_grad=True)\n",
    "user_bias.data.mul_(0.01)\n",
    "movie_bias = torch.randn(1,n_movies, requires_grad=True)\n",
    "movie_bias.data.mul_(0.01)\n",
    "\n",
    "PMF_model = BiasedPMFLoss(lam_u, lam_v)\n",
    "optimizer = torch.optim.Adam([user_features, movie_features, user_bias, movie_bias], lr=0.01)\n",
    "\n",
    "rmse_train=[]\n",
    "rmse_test=[]\n",
    "non_zero_mask = (ratings != -1).type(torch.FloatTensor)\n",
    "non_zero_mask_test = (test != -1).type(torch.FloatTensor)\n",
    "\n",
    "non_zero_mask_test = (test != -1).type(torch.FloatTensor)\n",
    "for step, epoch in enumerate(range(2000)):\n",
    "    optimizer.zero_grad()\n",
    "    loss = PMF_model(ratings, user_features, movie_features, user_bias, movie_bias)\n",
    "    loss.backward()\n",
    "    optimizer.step()\n",
    "    \n",
    "    bias=user_bias.repeat(1,n_movies)+movie_bias.repeat(n_users,1)\n",
    "    predicted = torch.sigmoid(bias+torch.mm(user_features, movie_features.t()))\n",
    "    predicted = (predicted*(max_rating - min_rating) + min_rating)\n",
    "    rmse_train.append((torch.sqrt(torch.sum(((predicted - ratings_original) ** 2) * non_zero_mask)/len(df_train))).item())\n",
    "    rmse_test.append((torch.sqrt(torch.sum(((predicted - test) ** 2) * non_zero_mask_test)/len(df_test))).item())\n",
    "    \n",
    "    if step % 500 == 0:\n",
    "        print(f\"Step {step}, {loss:.3f}\")"
   ]
  },
  {
   "cell_type": "code",
   "execution_count": 147,
   "metadata": {},
   "outputs": [
    {
     "data": {
      "text/plain": [
       "tensor(0.5507, grad_fn=<SqrtBackward>)"
      ]
     },
     "execution_count": 147,
     "metadata": {},
     "output_type": "execute_result"
    }
   ],
   "source": [
    "#Training error\n",
    "bias=user_bias.repeat(1,n_movies)+movie_bias.repeat(n_users,1)\n",
    "predicted = torch.sigmoid(bias+torch.mm(user_features, movie_features.t()))\n",
    "predicted = (predicted*(max_rating - min_rating) + min_rating)\n",
    "\n",
    "non_zero_mask = (ratings != -1).type(torch.FloatTensor)\n",
    "torch.sqrt(torch.sum(((predicted - ratings_original) ** 2) * non_zero_mask)/len(df_train))"
   ]
  },
  {
   "cell_type": "code",
   "execution_count": 148,
   "metadata": {},
   "outputs": [
    {
     "data": {
      "text/plain": [
       "tensor(0.8297, grad_fn=<SqrtBackward>)"
      ]
     },
     "execution_count": 148,
     "metadata": {},
     "output_type": "execute_result"
    }
   ],
   "source": [
    "#Testing Error\n",
    "non_zero_mask = (test != -1).type(torch.FloatTensor)\n",
    "torch.sqrt(torch.sum(((predicted - test) ** 2) * non_zero_mask)/len(df_test))"
   ]
  },
  {
   "cell_type": "code",
   "execution_count": 149,
   "metadata": {},
   "outputs": [],
   "source": [
    "#rmse_train25=rmse_train\n",
    "#rmse_test25=rmse_test\n",
    "if latent_vectors==5:\n",
    "    rmse_train5=rmse_train\n",
    "    rmse_test5=rmse_test\n",
    "elif latent_vectors==25:\n",
    "    rmse_train25=rmse_train\n",
    "    rmse_test25=rmse_test\n",
    "elif latent_vectors==50:\n",
    "    rmse_train50=rmse_train\n",
    "    rmse_test50=rmse_test    "
   ]
  },
  {
   "cell_type": "code",
   "execution_count": 31,
   "metadata": {},
   "outputs": [
    {
     "data": {
      "text/plain": [
       "Text(0.5, 0.98, 'Biased PMF')"
      ]
     },
     "execution_count": 31,
     "metadata": {},
     "output_type": "execute_result"
    },
    {
     "data": {
      "image/png": "[encoded data removed]",
      "text/plain": [
       "<Figure size 720x252 with 2 Axes>"
      ]
     },
     "metadata": {
      "needs_background": "light"
     },
     "output_type": "display_data"
    }
   ],
   "source": [
    "fig, (ax1, ax2) = plt.subplots(1,2,figsize=(10,3.5))\n",
    "ax1.plot(rmse_train5, label=\"D = 5\")\n",
    "ax1.plot(rmse_train25, label=\"D = 25\")\n",
    "ax1.plot(rmse_train50, label=\"D = 50\")\n",
    "ax1.set_title('Train RMSE')\n",
    "ax1.set(xlabel='Epochs', ylabel='RMSE')\n",
    "ax1.legend()\n",
    "ax2.plot(rmse_test5, label=\"D = 5\")\n",
    "ax2.plot(rmse_test25, label=\"D = 25\")\n",
    "ax2.plot(rmse_test50, label=\"D = 50\")\n",
    "ax2.set_title('Test RMSE')\n",
    "ax2.set(xlabel='Epochs', ylabel='RMSE')\n",
    "ax2.legend()\n",
    "\n",
    "fig.tight_layout(pad=2.0)\n",
    "fig.suptitle('Biased PMF', fontsize=16)"
   ]
  },
  {
   "cell_type": "markdown",
   "metadata": {},
   "source": [
    "#### Constrained PMF"
   ]
  },
  {
   "cell_type": "code",
   "execution_count": 151,
   "metadata": {},
   "outputs": [],
   "source": [
    "#Instead of returning the prediction, this returns the loss directly in the forward prop\n",
    "class ConstrainedPMFLoss(torch.nn.Module):\n",
    "    def __init__(self, lam_y=0.4, lam_w=0.4, lam_v=0.3):\n",
    "        super().__init__()\n",
    "        self.lam_y = lam_y\n",
    "        self.lam_w = lam_w\n",
    "        self.lam_v = lam_v\n",
    "    \n",
    "    def forward(self, matrix, Y, W, v_features):\n",
    "        n_users,n_movies=matrix.shape\n",
    "        non_zero_mask = (matrix != -1).type(torch.FloatTensor)\n",
    "        #u_features= (Y+torch.mm(non_zero_mask, W)/torch.sum(non_zero_mask,1).view(n_users,1).repeat(1,latent_vectors))\n",
    "        predicted = torch.sigmoid(torch.mm((Y+torch.mm(non_zero_mask, W)/torch.sum(non_zero_mask,1).view(n_users,1)), v_features.t()))\n",
    "        \n",
    "        diff = ((matrix - predicted)**2)\n",
    "        prediction_error = torch.sum(diff*non_zero_mask)\n",
    "\n",
    "        y_regularization = self.lam_y * torch.sum(Y.norm(dim=1)**2)\n",
    "        w_regularization = self.lam_w * torch.sum(W.norm(dim=1)**2)\n",
    "        v_regularization = self.lam_v * torch.sum(v_features.norm(dim=1)**2)\n",
    "        \n",
    "        return prediction_error + y_regularization + w_regularization + v_regularization"
   ]
  },
  {
   "cell_type": "code",
   "execution_count": 152,
   "metadata": {},
   "outputs": [
    {
     "name": "stdout",
     "output_type": "stream",
     "text": [
      "Step 0, 5420.492\n",
      "Step 500, 2469.669\n",
      "Step 1000, 2469.249\n",
      "Step 1500, 2469.229\n"
     ]
    }
   ],
   "source": [
    "latent_vectors, lam_y, lam_w, lam_v = 50, 0.5, 0.5, 0.5\n",
    "Y = torch.randn(n_users, latent_vectors, requires_grad=True)\n",
    "Y.data.mul_(0.01)\n",
    "W = torch.randn(n_movies, latent_vectors, requires_grad=True)\n",
    "W.data.mul_(0.01)\n",
    "movie_features = torch.randn(n_movies, latent_vectors, requires_grad=True)\n",
    "movie_features.data.mul_(0.01)\n",
    "\n",
    "PMF_model = ConstrainedPMFLoss(lam_y, lam_w, lam_v)\n",
    "optimizer = torch.optim.Adam([Y, W, movie_features], lr=0.01)\n",
    "\n",
    "rmse_train=[]\n",
    "rmse_test=[]\n",
    "non_zero_mask = (ratings != -1).type(torch.FloatTensor)\n",
    "non_zero_mask_test = (test != -1).type(torch.FloatTensor)\n",
    "\n",
    "for step, epoch in enumerate(range(2000)):\n",
    "    optimizer.zero_grad()\n",
    "    loss = PMF_model(ratings, Y, W, movie_features)\n",
    "    loss.backward()\n",
    "    optimizer.step()\n",
    "    \n",
    "    predicted = (torch.sigmoid(torch.mm((Y+torch.mm(non_zero_mask, W)/torch.sum(non_zero_mask,1).view(n_users,1)), movie_features.t())))\n",
    "    predicted = (predicted*(max_rating - min_rating) + min_rating)\n",
    "    rmse_train.append((torch.sqrt(torch.sum(((predicted - ratings_original) ** 2) * non_zero_mask)/len(df_train))).item())\n",
    "    rmse_test.append((torch.sqrt(torch.sum(((predicted - test) ** 2) * non_zero_mask_test)/len(df_test))).item())\n",
    "    \n",
    "    if step % 500 == 0:\n",
    "        print(f\"Step {step}, {loss:.3f}\")"
   ]
  },
  {
   "cell_type": "code",
   "execution_count": 153,
   "metadata": {},
   "outputs": [
    {
     "data": {
      "text/plain": [
       "tensor(0.6154, grad_fn=<SqrtBackward>)"
      ]
     },
     "execution_count": 153,
     "metadata": {},
     "output_type": "execute_result"
    }
   ],
   "source": [
    "#Training error\n",
    "#u_features = (Y+torch.mm(non_zero_mask, W)/torch.sum(non_zero_mask,1).view(n_users,1).repeat(1,latent_vectors))\n",
    "predicted = (torch.sigmoid(torch.mm((Y+torch.mm(non_zero_mask, W)/torch.sum(non_zero_mask,1).view(n_users,1)), movie_features.t())))\n",
    "predicted = (predicted*(max_rating - min_rating) + min_rating)\n",
    "\n",
    "torch.sqrt(torch.sum(((predicted - ratings_original) ** 2) * non_zero_mask)/len(df_train))"
   ]
  },
  {
   "cell_type": "code",
   "execution_count": 154,
   "metadata": {},
   "outputs": [
    {
     "data": {
      "text/plain": [
       "tensor(0.8510, grad_fn=<SqrtBackward>)"
      ]
     },
     "execution_count": 154,
     "metadata": {},
     "output_type": "execute_result"
    }
   ],
   "source": [
    "#Testing Error\n",
    "torch.sqrt(torch.sum(((predicted - test) ** 2) * non_zero_mask_test)/len(df_test))"
   ]
  },
  {
   "cell_type": "code",
   "execution_count": 155,
   "metadata": {},
   "outputs": [],
   "source": [
    "if latent_vectors==5:\n",
    "    rmse_train5=rmse_train\n",
    "    rmse_test5=rmse_test\n",
    "elif latent_vectors==25:\n",
    "    rmse_train25=rmse_train\n",
    "    rmse_test25=rmse_test\n",
    "elif latent_vectors==50:\n",
    "    rmse_train50=rmse_train\n",
    "    rmse_test50=rmse_test    "
   ]
  },
  {
   "cell_type": "code",
   "execution_count": 140,
   "metadata": {},
   "outputs": [
    {
     "data": {
      "text/plain": [
       "Text(0.5, 0.98, 'Constrained PMF')"
      ]
     },
     "execution_count": 140,
     "metadata": {},
     "output_type": "execute_result"
    },
    {
     "data": {
      "image/png": "[encoded data removed]",
      "text/plain": [
       "<Figure size 720x252 with 2 Axes>"
      ]
     },
     "metadata": {
      "needs_background": "light"
     },
     "output_type": "display_data"
    }
   ],
   "source": [
    "fig, (ax1, ax2) = plt.subplots(1,2,figsize=(10,3.5))\n",
    "ax1.plot(rmse_train5, label=\"D = 5\")\n",
    "ax1.plot(rmse_train25, label=\"D = 25\")\n",
    "ax1.plot(rmse_train50, label=\"D = 50\")\n",
    "ax1.set_title('Train RMSE')\n",
    "ax1.set(xlabel='Epochs', ylabel='RMSE')\n",
    "ax1.legend()\n",
    "ax2.plot(rmse_test5, label=\"D = 5\")\n",
    "ax2.plot(rmse_test25, label=\"D = 25\")\n",
    "ax2.plot(rmse_test50, label=\"D = 50\")\n",
    "ax2.set_title('Test RMSE')\n",
    "ax2.set(xlabel='Epochs', ylabel='RMSE')\n",
    "ax2.legend()\n",
    "\n",
    "fig.tight_layout(pad=2.0)\n",
    "fig.suptitle('Constrained PMF', fontsize=16)"
   ]
  },
  {
   "cell_type": "markdown",
   "metadata": {},
   "source": [
    "#### Biased Deep PMF"
   ]
  },
  {
   "cell_type": "code",
   "execution_count": 44,
   "metadata": {},
   "outputs": [],
   "source": [
    "import torch.nn.functional as F"
   ]
  },
  {
   "cell_type": "code",
   "execution_count": 45,
   "metadata": {},
   "outputs": [],
   "source": [
    "#Instead of returning the prediction, this returns the loss directly in the forward prop\n",
    "class BiasedDeepPMFLoss(torch.nn.Module):\n",
    "    def __init__(self, lam_u=0.3, lam_v=0.3, lam_d=0.5):\n",
    "        super().__init__()\n",
    "        self.lam_u = lam_u\n",
    "        self.lam_v = lam_v\n",
    "        self.lam_d = lam_d\n",
    "    \n",
    "    def forward(self, matrix, u_features, v_features, u_bias, v_bias, dense1):\n",
    "        non_zero_mask = (matrix != -1).type(torch.FloatTensor)\n",
    "        output1=F.relu(torch.mm(u_features, v_features.t()))\n",
    "        bias=u_bias.repeat(1,n_movies)+v_bias.repeat(n_users,1)\n",
    "        predicted = torch.sigmoid(bias+torch.mm(output1, dense1))\n",
    "        \n",
    "        diff = ((matrix - predicted)**2)\n",
    "        prediction_error = torch.sum(diff*non_zero_mask)\n",
    "\n",
    "        u_regularization = self.lam_u * (torch.sum(u_features.norm(dim=1)**2) + u_bias.norm()**2)\n",
    "        v_regularization = self.lam_v * (torch.sum(v_features.norm(dim=1)**2) + v_bias.norm()**2)\n",
    "        d_regularization = self.lam_d * (torch.sum(dense1.norm(dim=1)**2))\n",
    "        \n",
    "        return prediction_error + u_regularization + v_regularization + d_regularization"
   ]
  },
  {
   "cell_type": "code",
   "execution_count": 136,
   "metadata": {},
   "outputs": [
    {
     "name": "stdout",
     "output_type": "stream",
     "text": [
      "Step 0, 179806704.000\n",
      "Step 500, 82588.820\n",
      "Step 1000, 2243.718\n",
      "Step 1500, 2192.844\n"
     ]
    }
   ],
   "source": [
    "latent_vectors, lam_u, lam_v, lam_d = 50, 0.3, 0.3, 40\n",
    "user_features = torch.randn(n_users, latent_vectors, requires_grad=True)\n",
    "user_features.data.mul_(0.01)\n",
    "movie_features = torch.randn(n_movies, latent_vectors, requires_grad=True)\n",
    "movie_features.data.mul_(0.01)\n",
    "user_bias = torch.randn(n_users, 1, requires_grad=True)\n",
    "user_bias.data.mul_(0.01)\n",
    "movie_bias = torch.randn(1,n_movies, requires_grad=True)\n",
    "movie_bias.data.mul_(0.01)\n",
    "dense1=torch.randn(n_movies, n_movies, requires_grad=True)\n",
    "#dense1.data.mul_(0.01)\n",
    "\n",
    "PMF_model = BiasedDeepPMFLoss(lam_u, lam_v, lam_d)\n",
    "optimizer = torch.optim.Adam([user_features, movie_features, user_bias, movie_bias, dense1], lr=0.01)\n",
    "\n",
    "rmse_train=[]\n",
    "rmse_test=[]\n",
    "non_zero_mask = (ratings != -1).type(torch.FloatTensor)\n",
    "non_zero_mask_test = (test != -1).type(torch.FloatTensor)\n",
    "\n",
    "for step, epoch in enumerate(range(2000)):\n",
    "    optimizer.zero_grad()\n",
    "    loss = PMF_model(ratings, user_features, movie_features, user_bias, movie_bias, dense1)\n",
    "    loss.backward()\n",
    "    optimizer.step()\n",
    "    \n",
    "    output1=F.relu(torch.mm(user_features, movie_features.t()))\n",
    "    bias=user_bias.repeat(1,n_movies)+movie_bias.repeat(n_users,1)\n",
    "    predicted = torch.sigmoid(bias+torch.mm(output1, dense1))\n",
    "    predicted = (predicted*(max_rating - min_rating) + min_rating)\n",
    "    rmse_train.append((torch.sqrt(torch.sum(((predicted - ratings_original) ** 2) * non_zero_mask)/len(df_train))).item())\n",
    "    rmse_test.append((torch.sqrt(torch.sum(((predicted - test) ** 2) * non_zero_mask_test)/len(df_test))).item())\n",
    "    \n",
    "    if step % 500 == 0:\n",
    "        print(f\"Step {step}, {loss:.3f}\")"
   ]
  },
  {
   "cell_type": "code",
   "execution_count": 137,
   "metadata": {},
   "outputs": [
    {
     "data": {
      "text/plain": [
       "tensor(0.6922, grad_fn=<SqrtBackward>)"
      ]
     },
     "execution_count": 137,
     "metadata": {},
     "output_type": "execute_result"
    }
   ],
   "source": [
    "#Training error\n",
    "output1=F.relu(torch.mm(user_features, movie_features.t()))\n",
    "bias=user_bias.repeat(1,n_movies)+movie_bias.repeat(n_users,1)\n",
    "predicted = torch.sigmoid(bias+torch.mm(output1, dense1))\n",
    "predicted = (predicted*(max_rating - min_rating) + min_rating)\n",
    "\n",
    "torch.sqrt(torch.sum(((predicted - ratings_original) ** 2) * non_zero_mask)/len(df_train))"
   ]
  },
  {
   "cell_type": "code",
   "execution_count": 138,
   "metadata": {},
   "outputs": [
    {
     "data": {
      "text/plain": [
       "tensor(0.8299, grad_fn=<SqrtBackward>)"
      ]
     },
     "execution_count": 138,
     "metadata": {},
     "output_type": "execute_result"
    }
   ],
   "source": [
    "#Testing Error\n",
    "torch.sqrt(torch.sum(((predicted - test) ** 2) * non_zero_mask_test)/len(df_test))"
   ]
  },
  {
   "cell_type": "code",
   "execution_count": 141,
   "metadata": {},
   "outputs": [],
   "source": [
    "if latent_vectors==5:\n",
    "    rmse_train5=rmse_train\n",
    "    rmse_test5=rmse_test\n",
    "elif latent_vectors==25:\n",
    "    rmse_train25=rmse_train\n",
    "    rmse_test25=rmse_test\n",
    "elif latent_vectors==50:\n",
    "    rmse_train50=rmse_train\n",
    "    rmse_test50=rmse_test  "
   ]
  },
  {
   "cell_type": "code",
   "execution_count": 142,
   "metadata": {},
   "outputs": [
    {
     "data": {
      "text/plain": [
       "Text(0.5, 0.98, 'Deep PMF')"
      ]
     },
     "execution_count": 142,
     "metadata": {},
     "output_type": "execute_result"
    },
    {
     "data": {
      "image/png": "[encoded data removed]",
      "text/plain": [
       "<Figure size 720x252 with 2 Axes>"
      ]
     },
     "metadata": {
      "needs_background": "light"
     },
     "output_type": "display_data"
    }
   ],
   "source": [
    "fig, (ax1, ax2) = plt.subplots(1,2,figsize=(10,3.5))\n",
    "ax1.plot(rmse_train5, label=\"D = 5\")\n",
    "ax1.plot(rmse_train25, label=\"D = 25\")\n",
    "ax1.plot(rmse_train50, label=\"D = 50\")\n",
    "ax1.set_title('Train RMSE')\n",
    "ax1.set(xlabel='Epochs', ylabel='RMSE')\n",
    "ax1.legend()\n",
    "ax2.plot(rmse_test5, label=\"D = 5\")\n",
    "ax2.plot(rmse_test25, label=\"D = 25\")\n",
    "ax2.plot(rmse_test50, label=\"D = 50\")\n",
    "ax2.set_title('Test RMSE')\n",
    "ax2.set(xlabel='Epochs', ylabel='RMSE')\n",
    "ax2.legend()\n",
    "\n",
    "fig.tight_layout(pad=2.0)\n",
    "fig.suptitle('Deep PMF', fontsize=16)"
   ]
  }
 ],
 "metadata": {
  "kernelspec": {
   "display_name": "Python 3",
   "language": "python",
   "name": "python3"
  },
  "language_info": {
   "codemirror_mode": {
    "name": "ipython",
    "version": 3
   },
   "file_extension": ".py",
   "mimetype": "text/x-python",
   "name": "python",
   "nbconvert_exporter": "python",
   "pygments_lexer": "ipython3",
   "version": "3.7.6"
  }
 },
 "nbformat": 4,
 "nbformat_minor": 2
}
