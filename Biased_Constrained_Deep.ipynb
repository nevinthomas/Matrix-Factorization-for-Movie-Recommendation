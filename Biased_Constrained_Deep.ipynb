{
 "cells": [
  {
   "cell_type": "code",
   "execution_count": 1,
   "metadata": {},
   "outputs": [],
   "source": [
    "import torch\n",
    "import numpy as np\n",
    "import pandas as pd\n",
    "import matplotlib.pyplot as plt"
   ]
  },
  {
   "cell_type": "code",
   "execution_count": 2,
   "metadata": {},
   "outputs": [],
   "source": [
    "#Reading data and creating the ratings matrix\n",
    "df = pd.read_csv('ratings.csv')"
   ]
  },
  {
   "cell_type": "code",
   "execution_count": 3,
   "metadata": {},
   "outputs": [],
   "source": [
    "# Filter sparse movies\n",
    "min_movie_ratings = 10\n",
    "filter_movies = (df['movieId'].value_counts()>min_movie_ratings)\n",
    "filter_movies = filter_movies[filter_movies].index.tolist()\n",
    "\n",
    "# Filter sparse users\n",
    "min_user_ratings = 10\n",
    "filter_users = (df['userId'].value_counts()>min_user_ratings)\n",
    "filter_users = filter_users[filter_users].index.tolist()\n",
    "\n",
    "df = df[(df['movieId'].isin(filter_movies)) & (df['userId'].isin(filter_users))]\n",
    "del filter_movies, filter_users, min_movie_ratings, min_user_ratings"
   ]
  },
  {
   "cell_type": "code",
   "execution_count": 4,
   "metadata": {},
   "outputs": [
    {
     "data": {
      "text/html": [
       "<div>\n",
       "<style scoped>\n",
       "    .dataframe tbody tr th:only-of-type {\n",
       "        vertical-align: middle;\n",
       "    }\n",
       "\n",
       "    .dataframe tbody tr th {\n",
       "        vertical-align: top;\n",
       "    }\n",
       "\n",
       "    .dataframe thead th {\n",
       "        text-align: right;\n",
       "    }\n",
       "</style>\n",
       "<table border=\"1\" class=\"dataframe\">\n",
       "  <thead>\n",
       "    <tr style=\"text-align: right;\">\n",
       "      <th></th>\n",
       "      <th>userId</th>\n",
       "      <th>movieId</th>\n",
       "      <th>rating</th>\n",
       "    </tr>\n",
       "  </thead>\n",
       "  <tbody>\n",
       "    <tr>\n",
       "      <th>0</th>\n",
       "      <td>191</td>\n",
       "      <td>162</td>\n",
       "      <td>5.0</td>\n",
       "    </tr>\n",
       "    <tr>\n",
       "      <th>1</th>\n",
       "      <td>195</td>\n",
       "      <td>908</td>\n",
       "      <td>5.0</td>\n",
       "    </tr>\n",
       "    <tr>\n",
       "      <th>2</th>\n",
       "      <td>288</td>\n",
       "      <td>33493</td>\n",
       "      <td>4.5</td>\n",
       "    </tr>\n",
       "    <tr>\n",
       "      <th>3</th>\n",
       "      <td>21</td>\n",
       "      <td>4545</td>\n",
       "      <td>4.0</td>\n",
       "    </tr>\n",
       "    <tr>\n",
       "      <th>4</th>\n",
       "      <td>410</td>\n",
       "      <td>2987</td>\n",
       "      <td>4.0</td>\n",
       "    </tr>\n",
       "  </tbody>\n",
       "</table>\n",
       "</div>"
      ],
      "text/plain": [
       "   userId  movieId  rating\n",
       "0     191      162     5.0\n",
       "1     195      908     5.0\n",
       "2     288    33493     4.5\n",
       "3      21     4545     4.0\n",
       "4     410     2987     4.0"
      ]
     },
     "execution_count": 4,
     "metadata": {},
     "output_type": "execute_result"
    }
   ],
   "source": [
    "# Shuffle DataFrame\n",
    "df = df.drop('timestamp', axis=1).sample(frac=1).reset_index(drop=True)\n",
    "df.head()"
   ]
  },
  {
   "cell_type": "code",
   "execution_count": 5,
   "metadata": {},
   "outputs": [
    {
     "name": "stdout",
     "output_type": "stream",
     "text": [
      "Min no of rating by a user in train set: 7.0\n"
     ]
    }
   ],
   "source": [
    "from sklearn.model_selection import train_test_split\n",
    "df_train , df_test = train_test_split(df, test_size = 0.2)\n",
    "ratings = pd.pivot_table(df_train, index = 'userId', columns = 'movieId', values = 'rating')\n",
    "ratings[ratings.isnull()] = -1\n",
    "ratings=torch.FloatTensor(ratings.values)\n",
    "non_zero_mask = (ratings != -1).type(torch.FloatTensor)\n",
    "if(min(torch.sum(non_zero_mask,1))==0):\n",
    "    print('Do another split')\n",
    "else:\n",
    "    print(f\"Min no of rating by a user in train set: {min(torch.sum(non_zero_mask,1))}\")      "
   ]
  },
  {
   "cell_type": "code",
   "execution_count": 6,
   "metadata": {},
   "outputs": [],
   "source": [
    "ratings = pd.pivot_table(df_train, index = 'userId', columns = 'movieId', values = 'rating')\n",
    "\n",
    "#Scaling\n",
    "min_rating, max_rating = df['rating'].min(), df['rating'].max()\n",
    "ratings = (ratings - min_rating) / (max_rating - min_rating)\n",
    "\n",
    "ratings[ratings.isnull()] = -1\n",
    "ratings = torch.FloatTensor(ratings.values)\n",
    "ratings = ratings\n",
    "\n",
    "ratings_original = pd.pivot_table(df_train, index = 'userId', columns = 'movieId', values = 'rating')\n",
    "ratings_original[ratings_original.isnull()] = -1\n",
    "ratings_original = torch.FloatTensor(ratings_original.values)\n",
    "ratings_original = ratings_original\n",
    "\n",
    "\n",
    "rate2 = pd.pivot_table(df, index = 'userId', columns = 'movieId', values = 'rating')\n",
    "rate2 = torch.FloatTensor(rate2.values)\n",
    "rate2 = rate2\n",
    "\n",
    "rate = pd.pivot_table(df_train, index = 'userId', columns = 'movieId', values = 'rating')\n",
    "rate[rate.isnull()] = -1\n",
    "rate[rate >= 0] = np.nan\n",
    "rate = rate + 1\n",
    "rate = torch.FloatTensor(rate.values)\n",
    "rate = rate\n",
    "\n",
    "test = rate2 - rate\n",
    "test[torch.isnan(test)] = -1\n",
    "\n",
    "n_users, n_movies = ratings.shape"
   ]
  },
  {
   "cell_type": "markdown",
   "metadata": {},
   "source": [
    "### Biased PMF"
   ]
  },
  {
   "cell_type": "code",
   "execution_count": 7,
   "metadata": {},
   "outputs": [],
   "source": [
    "#Instead of returning the prediction, this returns the loss directly in the forward prop\n",
    "class BiasedPMFLoss(torch.nn.Module):\n",
    "    def __init__(self, lam_u=0.3, lam_v=0.3):\n",
    "        super().__init__()\n",
    "        self.lam_u = lam_u\n",
    "        self.lam_v = lam_v\n",
    "    \n",
    "    def forward(self, matrix, u_features, v_features, u_bias, v_bias):\n",
    "        n_users,n_movies=matrix.shape\n",
    "        non_zero_mask = (matrix != -1).type(torch.FloatTensor)\n",
    "        bias=u_bias.repeat(1,n_movies)+v_bias.repeat(n_users,1)\n",
    "        predicted = torch.sigmoid(bias+torch.mm(u_features, v_features.t()))\n",
    "        \n",
    "        diff = ((matrix - predicted)**2)\n",
    "        prediction_error = torch.sum(diff*non_zero_mask)\n",
    "\n",
    "        u_regularization = self.lam_u * (torch.sum(u_features.norm(dim=1)**2)+u_bias.norm()**2)\n",
    "        v_regularization = self.lam_v * (torch.sum(v_features.norm(dim=1)**2)+v_bias.norm()**2)\n",
    "        \n",
    "        return prediction_error + u_regularization + v_regularization"
   ]
  },
  {
   "cell_type": "code",
   "execution_count": 8,
   "metadata": {},
   "outputs": [],
   "source": [
    "non_zero_mask = (ratings != -1).type(torch.FloatTensor)\n",
    "non_zero_mask_test = (test != -1).type(torch.FloatTensor)\n",
    "D_list = [5,25,50]\n",
    "results = pd.DataFrame()"
   ]
  },
  {
   "cell_type": "code",
   "execution_count": 9,
   "metadata": {},
   "outputs": [
    {
     "name": "stdout",
     "output_type": "stream",
     "text": [
      "D=5, Step 0, 5436.993\n",
      "D=5, Step 500, 2105.162\n",
      "D=5, Step 1000, 2101.455\n",
      "D=5, Step 1500, 2100.500\n",
      "D=25, Step 0, 5439.006\n",
      "D=25, Step 500, 1919.710\n",
      "D=25, Step 1000, 1917.673\n",
      "D=25, Step 1500, 1917.319\n",
      "D=50, Step 0, 5440.474\n",
      "D=50, Step 500, 1891.661\n",
      "D=50, Step 1000, 1891.215\n",
      "D=50, Step 1500, 1891.171\n"
     ]
    }
   ],
   "source": [
    "for D in D_list:\n",
    "    latent_vectors, lam_u, lam_v = D, 0.42, 0.42\n",
    "    user_features = torch.randn(n_users, latent_vectors, requires_grad=True)\n",
    "    user_features.data.mul_(0.01)\n",
    "    movie_features = torch.randn(n_movies, latent_vectors, requires_grad=True)\n",
    "    movie_features.data.mul_(0.01)\n",
    "    user_bias = torch.randn(n_users, 1, requires_grad=True)\n",
    "    user_bias.data.mul_(0.01)\n",
    "    movie_bias = torch.randn(1,n_movies, requires_grad=True)\n",
    "    movie_bias.data.mul_(0.01)\n",
    "\n",
    "    PMF_model = BiasedPMFLoss(lam_u, lam_v)\n",
    "    optimizer = torch.optim.Adam([user_features, movie_features, user_bias, movie_bias], lr=0.01)\n",
    "\n",
    "    rmse_train=[]\n",
    "    rmse_test=[]\n",
    "    for step, epoch in enumerate(range(2000)):\n",
    "        optimizer.zero_grad()\n",
    "        loss = PMF_model(ratings, user_features, movie_features, user_bias, movie_bias)\n",
    "        loss.backward()\n",
    "        optimizer.step()\n",
    "\n",
    "        bias=user_bias.repeat(1,n_movies)+movie_bias.repeat(n_users,1)\n",
    "        predicted = torch.sigmoid(bias+torch.mm(user_features, movie_features.t()))\n",
    "        predicted = (predicted*(max_rating - min_rating) + min_rating)\n",
    "        rmse_train.append((torch.sqrt(torch.sum(((predicted - ratings_original) ** 2) * non_zero_mask)/len(df_train))).item())\n",
    "        rmse_test.append((torch.sqrt(torch.sum(((predicted - test) ** 2) * non_zero_mask_test)/len(df_test))).item())\n",
    "\n",
    "        if step % 500 == 0:\n",
    "            print(f\"D={D}, Step {step}, {loss:.3f}\")\n",
    "            \n",
    "    results[str(D) + '_train'] = rmse_train\n",
    "    results[str(D) + '_test'] = rmse_test"
   ]
  },
  {
   "cell_type": "code",
   "execution_count": 10,
   "metadata": {},
   "outputs": [
    {
     "data": {
      "text/plain": [
       "Text(0.5, 0.98, 'Biased PMF')"
      ]
     },
     "execution_count": 10,
     "metadata": {},
     "output_type": "execute_result"
    },
    {
     "data": {
      "image/png": "[encoded data removed]",
      "text/plain": [
       "<Figure size 720x252 with 2 Axes>"
      ]
     },
     "metadata": {
      "needs_background": "light"
     },
     "output_type": "display_data"
    }
   ],
   "source": [
    "fig, (ax1, ax2) = plt.subplots(1,2,figsize=(10,3.5))\n",
    "ax1.plot(results.iloc[:,0], label='D = 5')\n",
    "ax1.plot(results.iloc[:,2], label='D = 25')\n",
    "ax1.plot(results.iloc[:,4], label='D = 50')\n",
    "ax1.set_title('Train RMSE')\n",
    "ax1.set(xlabel='Epochs', ylabel='RMSE')\n",
    "ax1.legend()\n",
    "ax2.plot(results.iloc[:,1], label='D = 5')\n",
    "ax2.plot(results.iloc[:,3], label='D = 25')\n",
    "ax2.plot(results.iloc[:,5], label='D = 50')\n",
    "\n",
    "ax2.set_title('Test RMSE')\n",
    "ax2.set(xlabel='Epochs', ylabel='RMSE')\n",
    "ax2.legend()\n",
    "\n",
    "fig.tight_layout(pad=2.0)\n",
    "fig.suptitle('Biased PMF', fontsize=16)"
   ]
  },
  {
   "cell_type": "code",
   "execution_count": 11,
   "metadata": {},
   "outputs": [
    {
     "name": "stdout",
     "output_type": "stream",
     "text": [
      "Training Error for Biased PMF\n",
      "D=5: 0.7109102606773376\n",
      "D=25: 0.5802985429763794\n",
      "D=50: 0.5503436326980591\n",
      "\n",
      "\n",
      "Testing Error for Biased PMF\n",
      "D=5: 0.8317464590072632\n",
      "D=25: 0.8355910181999207\n",
      "D=50: 0.8277145028114319\n"
     ]
    }
   ],
   "source": [
    "#Training error\n",
    "print(\"Training Error for Biased PMF\")\n",
    "for i in range(len(D_list)):\n",
    "    print(f\"D={D_list[i]}: {results.iloc[step,i*2]}\")\n",
    "    \n",
    "print(\"\\n\")\n",
    "\n",
    "#Testing error\n",
    "print(\"Testing Error for Biased PMF\")\n",
    "for i in range(len(D_list)):\n",
    "    print(f\"D={D_list[i]}: {results.iloc[step,i*2+1]}\")"
   ]
  },
  {
   "cell_type": "markdown",
   "metadata": {},
   "source": [
    "### Constrained PMF"
   ]
  },
  {
   "cell_type": "code",
   "execution_count": 12,
   "metadata": {},
   "outputs": [],
   "source": [
    "#Instead of returning the prediction, this returns the loss directly in the forward prop\n",
    "class ConstrainedPMFLoss(torch.nn.Module):\n",
    "    def __init__(self, lam_y=0.4, lam_w=0.4, lam_v=0.3):\n",
    "        super().__init__()\n",
    "        self.lam_y = lam_y\n",
    "        self.lam_w = lam_w\n",
    "        self.lam_v = lam_v\n",
    "    \n",
    "    def forward(self, matrix, Y, W, v_features):\n",
    "        n_users,n_movies=matrix.shape\n",
    "        non_zero_mask = (matrix != -1).type(torch.FloatTensor)\n",
    "        #u_features= (Y+torch.mm(non_zero_mask, W)/torch.sum(non_zero_mask,1).view(n_users,1).repeat(1,latent_vectors))\n",
    "        predicted = torch.sigmoid(torch.mm((Y+torch.mm(non_zero_mask, W)/torch.sum(non_zero_mask,1).view(n_users,1)), v_features.t()))\n",
    "        \n",
    "        diff = ((matrix - predicted)**2)\n",
    "        prediction_error = torch.sum(diff*non_zero_mask)\n",
    "\n",
    "        y_regularization = self.lam_y * torch.sum(Y.norm(dim=1)**2)\n",
    "        w_regularization = self.lam_w * torch.sum(W.norm(dim=1)**2)\n",
    "        v_regularization = self.lam_v * torch.sum(v_features.norm(dim=1)**2)\n",
    "        \n",
    "        return prediction_error + y_regularization + w_regularization + v_regularization"
   ]
  },
  {
   "cell_type": "code",
   "execution_count": 13,
   "metadata": {},
   "outputs": [],
   "source": [
    "non_zero_mask = (ratings != -1).type(torch.FloatTensor)\n",
    "non_zero_mask_test = (test != -1).type(torch.FloatTensor)\n",
    "D_list = [5,25,50]\n",
    "results = pd.DataFrame()"
   ]
  },
  {
   "cell_type": "code",
   "execution_count": 14,
   "metadata": {},
   "outputs": [
    {
     "name": "stdout",
     "output_type": "stream",
     "text": [
      "D=5, Step 0, 5433.033\n",
      "D=5, Step 500, 2645.154\n",
      "D=5, Step 1000, 2642.446\n",
      "D=5, Step 1500, 2642.314\n",
      "D=25, Step 0, 5437.904\n",
      "D=25, Step 500, 2489.269\n",
      "D=25, Step 1000, 2486.644\n",
      "D=25, Step 1500, 2486.279\n",
      "D=50, Step 0, 5443.877\n",
      "D=50, Step 500, 2470.431\n",
      "D=50, Step 1000, 2470.045\n",
      "D=50, Step 1500, 2470.039\n"
     ]
    }
   ],
   "source": [
    "for D in D_list: \n",
    "    latent_vectors, lam_y, lam_w, lam_v = D, 0.5, 0.5, 0.5\n",
    "    Y = torch.randn(n_users, latent_vectors, requires_grad=True)\n",
    "    Y.data.mul_(0.01)\n",
    "    W = torch.randn(n_movies, latent_vectors, requires_grad=True)\n",
    "    W.data.mul_(0.01)\n",
    "    movie_features = torch.randn(n_movies, latent_vectors, requires_grad=True)\n",
    "    movie_features.data.mul_(0.01)\n",
    "\n",
    "    PMF_model = ConstrainedPMFLoss(lam_y, lam_w, lam_v)\n",
    "    optimizer = torch.optim.Adam([Y, W, movie_features], lr=0.01)\n",
    "\n",
    "    rmse_train=[]\n",
    "    rmse_test=[]\n",
    "\n",
    "    for step, epoch in enumerate(range(2000)):\n",
    "        optimizer.zero_grad()\n",
    "        loss = PMF_model(ratings, Y, W, movie_features)\n",
    "        loss.backward()\n",
    "        optimizer.step()\n",
    "\n",
    "        predicted = (torch.sigmoid(torch.mm((Y+torch.mm(non_zero_mask, W)/torch.sum(non_zero_mask,1).view(n_users,1)), movie_features.t())))\n",
    "        predicted = (predicted*(max_rating - min_rating) + min_rating)\n",
    "        rmse_train.append((torch.sqrt(torch.sum(((predicted - ratings_original) ** 2) * non_zero_mask)/len(df_train))).item())\n",
    "        rmse_test.append((torch.sqrt(torch.sum(((predicted - test) ** 2) * non_zero_mask_test)/len(df_test))).item())\n",
    "\n",
    "        if step % 500 == 0:\n",
    "            print(f\"D={D}, Step {step}, {loss:.3f}\")\n",
    "            \n",
    "    results[str(D) + '_train'] = rmse_train\n",
    "    results[str(D) + '_test'] = rmse_test"
   ]
  },
  {
   "cell_type": "code",
   "execution_count": 15,
   "metadata": {},
   "outputs": [
    {
     "data": {
      "text/plain": [
       "Text(0.5, 0.98, 'Constrained PMF')"
      ]
     },
     "execution_count": 15,
     "metadata": {},
     "output_type": "execute_result"
    },
    {
     "data": {
      "image/png": "[encoded data removed]",
      "text/plain": [
       "<Figure size 720x252 with 2 Axes>"
      ]
     },
     "metadata": {
      "needs_background": "light"
     },
     "output_type": "display_data"
    }
   ],
   "source": [
    "fig, (ax1, ax2) = plt.subplots(1,2,figsize=(10,3.5))\n",
    "ax1.plot(results.iloc[:,0], label='D = 5')\n",
    "ax1.plot(results.iloc[:,2], label='D = 25')\n",
    "ax1.plot(results.iloc[:,4], label='D = 50')\n",
    "ax1.set_title('Train RMSE')\n",
    "ax1.set(xlabel='Epochs', ylabel='RMSE')\n",
    "ax1.legend()\n",
    "ax2.plot(results.iloc[:,1], label='D = 5')\n",
    "ax2.plot(results.iloc[:,3], label='D = 25')\n",
    "ax2.plot(results.iloc[:,5], label='D = 50')\n",
    "\n",
    "ax2.set_title('Test RMSE')\n",
    "ax2.set(xlabel='Epochs', ylabel='RMSE')\n",
    "ax2.legend()\n",
    "\n",
    "fig.tight_layout(pad=2.0)\n",
    "fig.suptitle('Constrained PMF', fontsize=16)"
   ]
  },
  {
   "cell_type": "code",
   "execution_count": 16,
   "metadata": {},
   "outputs": [
    {
     "name": "stdout",
     "output_type": "stream",
     "text": [
      "Training Error for Constrained PMF\n",
      "D=5: 0.7538262605667114\n",
      "D=25: 0.6377951502799988\n",
      "D=50: 0.6145027279853821\n",
      "\n",
      "\n",
      "Testing Error for Constrained PMF\n",
      "D=5: 0.8486921191215515\n",
      "D=25: 0.8526660203933716\n",
      "D=50: 0.8485327959060669\n"
     ]
    }
   ],
   "source": [
    "#Training error\n",
    "print(\"Training Error for Constrained PMF\")\n",
    "for i in range(len(D_list)):\n",
    "    print(f\"D={D_list[i]}: {results.iloc[step,i*2]}\")\n",
    "    \n",
    "print(\"\\n\")\n",
    "\n",
    "#Testing error\n",
    "print(\"Testing Error for Constrained PMF\")\n",
    "for i in range(len(D_list)):\n",
    "    print(f\"D={D_list[i]}: {results.iloc[step,i*2+1]}\")"
   ]
  },
  {
   "cell_type": "markdown",
   "metadata": {},
   "source": [
    "### Deep PMF"
   ]
  },
  {
   "cell_type": "code",
   "execution_count": 17,
   "metadata": {},
   "outputs": [],
   "source": [
    "import torch.nn.functional as F"
   ]
  },
  {
   "cell_type": "code",
   "execution_count": 18,
   "metadata": {},
   "outputs": [],
   "source": [
    "#Instead of returning the prediction, this returns the loss directly in the forward prop\n",
    "class BiasedDeepPMFLoss(torch.nn.Module):\n",
    "    def __init__(self, lam_u=0.3, lam_v=0.3, lam_d=0.5):\n",
    "        super().__init__()\n",
    "        self.lam_u = lam_u\n",
    "        self.lam_v = lam_v\n",
    "        self.lam_d = lam_d\n",
    "    \n",
    "    def forward(self, matrix, u_features, v_features, u_bias, v_bias, dense1):\n",
    "        non_zero_mask = (matrix != -1).type(torch.FloatTensor)\n",
    "        output1=F.relu(torch.mm(u_features, v_features.t()))\n",
    "        bias=u_bias.repeat(1,n_movies)+v_bias.repeat(n_users,1)\n",
    "        predicted = torch.sigmoid(bias+torch.mm(output1, dense1))\n",
    "        \n",
    "        diff = ((matrix - predicted)**2)\n",
    "        prediction_error = torch.sum(diff*non_zero_mask)\n",
    "\n",
    "        u_regularization = self.lam_u * (torch.sum(u_features.norm(dim=1)**2) + u_bias.norm()**2)\n",
    "        v_regularization = self.lam_v * (torch.sum(v_features.norm(dim=1)**2) + v_bias.norm()**2)\n",
    "        d_regularization = self.lam_d * (torch.sum(dense1.norm(dim=1)**2))\n",
    "        \n",
    "        return prediction_error + u_regularization + v_regularization + d_regularization"
   ]
  },
  {
   "cell_type": "code",
   "execution_count": 19,
   "metadata": {},
   "outputs": [],
   "source": [
    "non_zero_mask = (ratings != -1).type(torch.FloatTensor)\n",
    "non_zero_mask_test = (test != -1).type(torch.FloatTensor)\n",
    "D_list = [5,25,50]\n",
    "results = pd.DataFrame()\n",
    "# the regularization parameters might have to be tuned separately for each D value to achieve the best performance"
   ]
  },
  {
   "cell_type": "code",
   "execution_count": 20,
   "metadata": {},
   "outputs": [
    {
     "name": "stdout",
     "output_type": "stream",
     "text": [
      "D=5, Step 0, 179854880.000\n",
      "D=5, Step 500, 84818.750\n",
      "D=5, Step 1000, 2253.075\n",
      "D=5, Step 1500, 2197.029\n",
      "D=25, Step 0, 179813408.000\n",
      "D=25, Step 500, 85787.695\n",
      "D=25, Step 1000, 2261.321\n",
      "D=25, Step 1500, 2192.985\n",
      "D=50, Step 0, 180057776.000\n",
      "D=50, Step 500, 84146.289\n",
      "D=50, Step 1000, 2252.586\n",
      "D=50, Step 1500, 2193.339\n"
     ]
    }
   ],
   "source": [
    "for D in D_list:     \n",
    "    latent_vectors, lam_u, lam_v, lam_d = D, 0.3, 0.3, 40\n",
    "    user_features = torch.randn(n_users, latent_vectors, requires_grad=True)\n",
    "    user_features.data.mul_(0.01)\n",
    "    movie_features = torch.randn(n_movies, latent_vectors, requires_grad=True)\n",
    "    movie_features.data.mul_(0.01)\n",
    "    user_bias = torch.randn(n_users, 1, requires_grad=True)\n",
    "    user_bias.data.mul_(0.01)\n",
    "    movie_bias = torch.randn(1,n_movies, requires_grad=True)\n",
    "    movie_bias.data.mul_(0.01)\n",
    "    dense1=torch.randn(n_movies, n_movies, requires_grad=True)\n",
    "    #dense1.data.mul_(0.01)\n",
    "\n",
    "    PMF_model = BiasedDeepPMFLoss(lam_u, lam_v, lam_d)\n",
    "    optimizer = torch.optim.Adam([user_features, movie_features, user_bias, movie_bias, dense1], lr=0.01)\n",
    "\n",
    "    rmse_train=[]\n",
    "    rmse_test=[]\n",
    "\n",
    "    for step, epoch in enumerate(range(2000)):\n",
    "        optimizer.zero_grad()\n",
    "        loss = PMF_model(ratings, user_features, movie_features, user_bias, movie_bias, dense1)\n",
    "        loss.backward()\n",
    "        optimizer.step()\n",
    "\n",
    "        output1=F.relu(torch.mm(user_features, movie_features.t()))\n",
    "        bias=user_bias.repeat(1,n_movies)+movie_bias.repeat(n_users,1)\n",
    "        predicted = torch.sigmoid(bias+torch.mm(output1, dense1))\n",
    "        predicted = (predicted*(max_rating - min_rating) + min_rating)\n",
    "        rmse_train.append((torch.sqrt(torch.sum(((predicted - ratings_original) ** 2) * non_zero_mask)/len(df_train))).item())\n",
    "        rmse_test.append((torch.sqrt(torch.sum(((predicted - test) ** 2) * non_zero_mask_test)/len(df_test))).item())\n",
    "\n",
    "        if step % 500 == 0:\n",
    "            print(f\"D={D}, Step {step}, {loss:.3f}\")\n",
    "            \n",
    "    results[str(D) + '_train'] = rmse_train\n",
    "    results[str(D) + '_test'] = rmse_test"
   ]
  },
  {
   "cell_type": "code",
   "execution_count": 21,
   "metadata": {},
   "outputs": [
    {
     "data": {
      "text/plain": [
       "Text(0.5, 0.98, 'Deep PMF')"
      ]
     },
     "execution_count": 21,
     "metadata": {},
     "output_type": "execute_result"
    },
    {
     "data": {
      "image/png": "[encoded data removed]",
      "text/plain": [
       "<Figure size 720x252 with 2 Axes>"
      ]
     },
     "metadata": {
      "needs_background": "light"
     },
     "output_type": "display_data"
    }
   ],
   "source": [
    "fig, (ax1, ax2) = plt.subplots(1,2,figsize=(10,3.5))\n",
    "ax1.plot(results.iloc[:,0], label='D = 5')\n",
    "ax1.plot(results.iloc[:,2], label='D = 25')\n",
    "ax1.plot(results.iloc[:,4], label='D = 50')\n",
    "ax1.set_title('Train RMSE')\n",
    "ax1.set(xlabel='Epochs', ylabel='RMSE')\n",
    "ax1.legend()\n",
    "ax2.plot(results.iloc[:,1], label='D = 5')\n",
    "ax2.plot(results.iloc[:,3], label='D = 25')\n",
    "ax2.plot(results.iloc[:,5], label='D = 50')\n",
    "\n",
    "ax2.set_title('Test RMSE')\n",
    "ax2.set(xlabel='Epochs', ylabel='RMSE')\n",
    "ax2.legend()\n",
    "\n",
    "fig.tight_layout(pad=2.0)\n",
    "fig.suptitle('Deep PMF', fontsize=16)"
   ]
  },
  {
   "cell_type": "code",
   "execution_count": 22,
   "metadata": {},
   "outputs": [
    {
     "name": "stdout",
     "output_type": "stream",
     "text": [
      "Training Error for Deep PMF\n",
      "D=5: 0.7137967944145203\n",
      "D=25: 0.6911012530326843\n",
      "D=50: 0.6898464560508728\n",
      "\n",
      "\n",
      "Testing Error for Deep PMF\n",
      "D=5: 0.829240620136261\n",
      "D=25: 0.8280016183853149\n",
      "D=50: 0.8287838697433472\n"
     ]
    }
   ],
   "source": [
    "#Training error\n",
    "print(\"Training Error for Deep PMF\")\n",
    "for i in range(len(D_list)):\n",
    "    print(f\"D={D_list[i]}: {results.iloc[step,i*2]}\")\n",
    "    \n",
    "print(\"\\n\")\n",
    "\n",
    "#Testing error\n",
    "print(\"Testing Error for Deep PMF\")\n",
    "for i in range(len(D_list)):\n",
    "    print(f\"D={D_list[i]}: {results.iloc[step,i*2+1]}\")"
   ]
  }
 ],
 "metadata": {
  "kernelspec": {
   "display_name": "Python 3",
   "language": "python",
   "name": "python3"
  },
  "language_info": {
   "codemirror_mode": {
    "name": "ipython",
    "version": 3
   },
   "file_extension": ".py",
   "mimetype": "text/x-python",
   "name": "python",
   "nbconvert_exporter": "python",
   "pygments_lexer": "ipython3",
   "version": "3.7.6"
  }
 },
 "nbformat": 4,
 "nbformat_minor": 2
}
